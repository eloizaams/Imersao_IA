{
  "nbformat": 4,
  "nbformat_minor": 0,
  "metadata": {
    "colab": {
      "provenance": [],
      "toc_visible": true,
      "authorship_tag": "ABX9TyO5Uih2yYZrfy+Bj6S31dH4",
      "include_colab_link": true
    },
    "kernelspec": {
      "name": "python3",
      "display_name": "Python 3"
    },
    "language_info": {
      "name": "python"
    }
  },
  "cells": [
    {
      "cell_type": "markdown",
      "metadata": {
        "id": "view-in-github",
        "colab_type": "text"
      },
      "source": [
        "<a href=\"https://colab.research.google.com/github/eloizaams/Imersao_IA/blob/main/Imersao_IA_2024.ipynb\" target=\"_parent\"><img src=\"https://colab.research.google.com/assets/colab-badge.svg\" alt=\"Open In Colab\"/></a>"
      ]
    },
    {
      "cell_type": "markdown",
      "source": [
        "Instalando o SDK do Google"
      ],
      "metadata": {
        "id": "jIuL_40otlie"
      }
    },
    {
      "cell_type": "code",
      "source": [
        "!pip install -q -U google-generativeai"
      ],
      "metadata": {
        "id": "O2HM4Fo3tMSf"
      },
      "execution_count": 16,
      "outputs": []
    },
    {
      "cell_type": "code",
      "source": [
        "import google.generativeai as genai\n",
        "from google.colab import userdata\n",
        "api_key = userdata.get('SECRET_KEY')\n",
        "genai.configure(api_key=api_key)"
      ],
      "metadata": {
        "id": "T40widEYtaa0"
      },
      "execution_count": 2,
      "outputs": []
    },
    {
      "cell_type": "markdown",
      "source": [
        "Listar os modelos disponíveis"
      ],
      "metadata": {
        "id": "85E2RbmCts0I"
      }
    },
    {
      "cell_type": "code",
      "source": [
        "for m in genai.list_models():\n",
        "  if 'generateContent' in m.supported_generation_methods:\n",
        "    print(m.name)"
      ],
      "metadata": {
        "colab": {
          "base_uri": "https://localhost:8080/",
          "height": 139
        },
        "id": "tlk-z7zCt19I",
        "outputId": "c1c2dff6-0376-4cbc-8400-7328ec28ef4e"
      },
      "execution_count": 5,
      "outputs": [
        {
          "output_type": "stream",
          "name": "stdout",
          "text": [
            "models/gemini-1.0-pro\n",
            "models/gemini-1.0-pro-001\n",
            "models/gemini-1.0-pro-latest\n",
            "models/gemini-1.0-pro-vision-latest\n",
            "models/gemini-1.5-pro-latest\n",
            "models/gemini-pro\n",
            "models/gemini-pro-vision\n"
          ]
        }
      ]
    },
    {
      "cell_type": "code",
      "source": [
        "generation_config = {\n",
        "    'candidate_count': 1,\n",
        "    'temperature': 0.5\n",
        "}"
      ],
      "metadata": {
        "id": "-RkMvEymykOM"
      },
      "execution_count": 6,
      "outputs": []
    },
    {
      "cell_type": "code",
      "source": [
        "safety_settings = {\n",
        "    \"HARASSMENT\":\"BLOCK_NONE\",\n",
        "    'HATE': 'BLOCK_NONE',\n",
        "    'SEXUAL': 'BLOCK_NONE',\n",
        "    'DANGEROUS': 'BLOCK_NONE'\n",
        "}"
      ],
      "metadata": {
        "id": "5VtxBSXhzRTz"
      },
      "execution_count": 8,
      "outputs": []
    },
    {
      "cell_type": "markdown",
      "source": [
        "Inicializando o modelo"
      ],
      "metadata": {
        "id": "9olmCgN40ZNn"
      }
    },
    {
      "cell_type": "code",
      "source": [
        "model = genai.GenerativeModel(model_name= 'gemini-1.0-pro',\n",
        "                              generation_config = generation_config,\n",
        "                              safety_settings=safety_settings)"
      ],
      "metadata": {
        "id": "zshnkpPT0cMn"
      },
      "execution_count": 9,
      "outputs": []
    },
    {
      "cell_type": "code",
      "source": [
        "response = model.generate_content(\"What is the meaning of life?\")\n",
        "print(response.text)"
      ],
      "metadata": {
        "colab": {
          "base_uri": "https://localhost:8080/",
          "height": 280
        },
        "id": "bG6ah5rT1hXv",
        "outputId": "779d79ca-8e41-41c0-b5d0-3fddf44f042e"
      },
      "execution_count": 10,
      "outputs": [
        {
          "output_type": "stream",
          "name": "stdout",
          "text": [
            "The meaning of life is a deeply personal and philosophical question that has been pondered by humans for centuries. It is a question that has no single, universally accepted answer, as the meaning of life can vary greatly depending on individual beliefs, values, and experiences.\n",
            "\n",
            "Some people believe that the meaning of life is to find happiness and fulfillment, while others believe that it is to make a positive impact on the world. Some people believe that the meaning of life is to connect with something greater than themselves, such as God or nature, while others believe that it is simply to live in the present moment and enjoy the experiences that life has to offer.\n",
            "\n",
            "Ultimately, the meaning of life is something that each individual must discover for themselves. There is no right or wrong answer, and the meaning of life can change over time as we grow and learn. The important thing is to live a life that is true to yourself and that brings you joy and fulfillment.\n",
            "\n",
            "Here are some of the most common answers to the question \"What is the meaning of life?\":\n",
            "\n",
            "* **To find happiness and fulfillment.** This is a common answer, and it is one that is supported by a lot of research. Studies have shown that people who are happy and fulfilled tend to live longer, healthier lives. They also tend to have stronger relationships and more successful careers.\n",
            "* **To make a positive impact on the world.** This is another common answer, and it is one that is shared by many people who have made significant contributions to society. These people believe that the meaning of life is to use their talents and abilities to make the world a better place.\n",
            "* **To connect with something greater than yourself.** This answer is often given by people who have had spiritual experiences. These people believe that the meaning of life is to connect with God, nature, or some other higher power.\n",
            "* **To live in the present moment.** This answer is often given by people who practice mindfulness or meditation. These people believe that the meaning of life is to be present in the moment and to appreciate the simple things in life.\n",
            "\n",
            "The meaning of life is a complex and personal question, and there is no single answer that will satisfy everyone. However, the answers listed above provide a good starting point for thinking about this important question.\n"
          ]
        }
      ]
    },
    {
      "cell_type": "code",
      "source": [
        "chat = model.start_chat(history=[])"
      ],
      "metadata": {
        "id": "fUF50X2d2GcX"
      },
      "execution_count": null,
      "outputs": []
    },
    {
      "cell_type": "code",
      "source": [
        "prompt = input(\"Esperando prompt: \")\n",
        "\n",
        "while prompt != 'fim':\n",
        "  response = chat.send_message(prompt)\n",
        "  print ('Resposta: ', response.text, '\\n')\n",
        "  prompt = input(\"Esperando prompt: \")"
      ],
      "metadata": {
        "colab": {
          "base_uri": "https://localhost:8080/"
        },
        "id": "D6UWHodJEaOM",
        "outputId": "ca396898-aadc-418c-e99c-64942f475f78"
      },
      "execution_count": 13,
      "outputs": [
        {
          "name": "stdout",
          "output_type": "stream",
          "text": [
            "Esperando prompt: fim\n"
          ]
        }
      ]
    }
  ]
}