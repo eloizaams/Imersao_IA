{
  "nbformat": 4,
  "nbformat_minor": 0,
  "metadata": {
    "colab": {
      "provenance": [],
      "authorship_tag": "ABX9TyOXMmzFhr1aYaKGm1KG0i3A",
      "include_colab_link": true
    },
    "kernelspec": {
      "name": "python3",
      "display_name": "Python 3"
    },
    "language_info": {
      "name": "python"
    }
  },
  "cells": [
    {
      "cell_type": "markdown",
      "metadata": {
        "id": "view-in-github",
        "colab_type": "text"
      },
      "source": [
        "<a href=\"https://colab.research.google.com/github/eloizaams/Imersao_IA/blob/main/Imersao_IA_2024.ipynb\" target=\"_parent\"><img src=\"https://colab.research.google.com/assets/colab-badge.svg\" alt=\"Open In Colab\"/></a>"
      ]
    },
    {
      "cell_type": "markdown",
      "source": [
        "Instalando o SDK do Google"
      ],
      "metadata": {
        "id": "jIuL_40otlie"
      }
    },
    {
      "cell_type": "code",
      "source": [
        "!pip install -q -U google-generativeai"
      ],
      "metadata": {
        "id": "O2HM4Fo3tMSf"
      },
      "execution_count": 15,
      "outputs": []
    },
    {
      "cell_type": "code",
      "source": [
        "import google.generativeai as genai\n",
        "from google.colab import userdata\n",
        "api_key = userdata.get('SECRET_KEY')\n",
        "genai.configure(api_key=api_key)"
      ],
      "metadata": {
        "id": "T40widEYtaa0"
      },
      "execution_count": 16,
      "outputs": []
    },
    {
      "cell_type": "markdown",
      "source": [
        "Listar os modelos disponíveis"
      ],
      "metadata": {
        "id": "85E2RbmCts0I"
      }
    },
    {
      "cell_type": "code",
      "source": [
        "for m in genai.list_models():\n",
        "  if 'generateContent' in m.supported_generation_methods:\n",
        "    print(m.name)"
      ],
      "metadata": {
        "colab": {
          "base_uri": "https://localhost:8080/",
          "height": 139
        },
        "id": "tlk-z7zCt19I",
        "outputId": "59c924c8-827b-4395-afba-a38d4799fffb"
      },
      "execution_count": 17,
      "outputs": [
        {
          "output_type": "stream",
          "name": "stdout",
          "text": [
            "models/gemini-1.0-pro\n",
            "models/gemini-1.0-pro-001\n",
            "models/gemini-1.0-pro-latest\n",
            "models/gemini-1.0-pro-vision-latest\n",
            "models/gemini-1.5-pro-latest\n",
            "models/gemini-pro\n",
            "models/gemini-pro-vision\n"
          ]
        }
      ]
    },
    {
      "cell_type": "code",
      "source": [
        "generation_config = {\n",
        "    'candidate_count': 1,\n",
        "    'temperature': 0.5\n",
        "}"
      ],
      "metadata": {
        "id": "-RkMvEymykOM"
      },
      "execution_count": 18,
      "outputs": []
    },
    {
      "cell_type": "code",
      "source": [
        "safety_settings = {\n",
        "    \"HARASSMENT\":\"BLOCK_NONE\",\n",
        "    'HATE': 'BLOCK_NONE',\n",
        "    'SEXUAL': 'BLOCK_NONE',\n",
        "    'DANGEROUS': 'BLOCK_NONE'\n",
        "}"
      ],
      "metadata": {
        "id": "5VtxBSXhzRTz"
      },
      "execution_count": 19,
      "outputs": []
    },
    {
      "cell_type": "markdown",
      "source": [
        "Inicializando o modelo"
      ],
      "metadata": {
        "id": "9olmCgN40ZNn"
      }
    },
    {
      "cell_type": "code",
      "source": [
        "model = genai.GenerativeModel(model_name= 'gemini-1.0-pro',\n",
        "                              generation_config = generation_config,\n",
        "                              safety_settings=safety_settings)"
      ],
      "metadata": {
        "id": "zshnkpPT0cMn"
      },
      "execution_count": 20,
      "outputs": []
    },
    {
      "cell_type": "code",
      "source": [
        "response = model.generate_content(\"What is the meaning of life?\")\n",
        "print(response.text)"
      ],
      "metadata": {
        "colab": {
          "base_uri": "https://localhost:8080/",
          "height": 176
        },
        "id": "bG6ah5rT1hXv",
        "outputId": "6b943bb5-6d6b-46df-8a15-0c075a93c188"
      },
      "execution_count": 21,
      "outputs": [
        {
          "output_type": "stream",
          "name": "stdout",
          "text": [
            "The meaning of life is a deep philosophical question that has been pondered by humans for centuries. There is no one definitive answer that is universally accepted, as the meaning of life is subjective and can vary greatly from person to person. However, some common themes that emerge when discussing the meaning of life include:\n",
            "\n",
            "* **Finding purpose and fulfillment:** Many people believe that the meaning of life is to find a sense of purpose and fulfillment in their lives. This can be achieved through work, relationships, hobbies, or any other activity that brings joy and satisfaction.\n",
            "* **Making a difference in the world:** Others believe that the meaning of life is to make a positive impact on the world. This can be done through acts of kindness, volunteering, or working to create a better future for others.\n",
            "* **Experiencing life to the fullest:** Some people believe that the meaning of life is simply to experience all that life has to offer. This can include travel, trying new things, and spending time with loved ones.\n",
            "* **Growing and evolving:** Others believe that the meaning of life is to grow and evolve as a person. This can involve learning new things, overcoming challenges, and becoming more compassionate and understanding.\n",
            "\n",
            "Ultimately, the meaning of life is a personal journey that each individual must discover for themselves. There is no right or wrong answer, and the meaning of life can change over time as we grow and change. However, by reflecting on our values, beliefs, and experiences, we can all come to a better understanding of what makes our lives meaningful.\n"
          ]
        }
      ]
    },
    {
      "cell_type": "code",
      "source": [
        "chat = model.start_chat(history=[])"
      ],
      "metadata": {
        "id": "fUF50X2d2GcX"
      },
      "execution_count": 22,
      "outputs": []
    },
    {
      "cell_type": "code",
      "source": [
        "prompt = input(\"Esperando prompt: \")\n",
        "\n",
        "while prompt != 'fim':\n",
        "  response = chat.send_message(prompt)\n",
        "  print ('Resposta: ', response.text, '\\n')\n",
        "  prompt = input(\"Esperando prompt: \")"
      ],
      "metadata": {
        "colab": {
          "base_uri": "https://localhost:8080/",
          "height": 384
        },
        "id": "D6UWHodJEaOM",
        "outputId": "2b8f2c99-abd3-4e19-f0c8-c240929b8e16"
      },
      "execution_count": 23,
      "outputs": [
        {
          "name": "stdout",
          "output_type": "stream",
          "text": [
            "Esperando prompt: Fim\n",
            "Resposta:  **Fim**\n",
            "\n",
            "O sol se pôs no horizonte, lançando um brilho dourado sobre a terra. O céu estava em chamas com tons de laranja, rosa e roxo. Era um belo fim para um dia perfeito.\n",
            "\n",
            "Eu sentei-me em uma pedra, observando o pôr do sol. Eu estava sozinho, mas não me sentia solitário. Eu estava em paz.\n",
            "\n",
            "Refleti sobre os acontecimentos do dia. Eu tinha passado o dia caminhando pela floresta, desfrutando da beleza da natureza. Eu tinha visto pássaros cantando nos galhos das árvores, esquilos correndo entre os troncos e veados pastando em um prado.\n",
            "\n",
            "Eu tinha encontrado um pequeno riacho e me sentado em sua margem, ouvindo o som da água corrente. Eu tinha fechado meus olhos e deixado a paz e a tranquilidade do momento me envolverem.\n",
            "\n",
            "Eu tinha caminhado até o topo de uma colina e olhado para a vista deslumbrante. Eu podia ver quilômetros de distância, sobre florestas, campos e montanhas.\n",
            "\n",
            "Eu tinha passado o dia em paz e harmonia com a natureza. Eu tinha me sentido conectado a algo maior do que eu mesmo.\n",
            "\n",
            "Agora, enquanto o sol se punha, eu sentia uma sensação de gratidão. Eu era grato pela beleza do mundo, pela paz que eu havia encontrado e pelo amor que sentia por todas as coisas vivas.\n",
            "\n",
            "Eu sabia que este era o fim de um dia perfeito. Mas também sabia que era apenas o começo de uma jornada ainda maior. \n",
            "\n",
            "Esperando prompt: fim\n"
          ]
        }
      ]
    },
    {
      "cell_type": "code",
      "source": [
        "#Melhorando a visualização\n",
        "#Código disponível em https://ai.google.dev/tutorials/python_quickstart#import_packages\n",
        "import textwrap\n",
        "from IPython.display import display\n",
        "from IPython.display import Markdown\n",
        "\n",
        "def to_markdown(text):\n",
        "  text = text.replace('•', '  *')\n",
        "  return Markdown(textwrap.indent(text, '> ', predicate=lambda _: True))\n",
        "\n",
        "#Imprimindo o histórico\n",
        "for message in chat.history:\n",
        "  display(to_markdown(f'**{message.role}**: {message.parts[0].text}'))\n",
        "  print('-------------------------------------------')"
      ],
      "metadata": {
        "colab": {
          "base_uri": "https://localhost:8080/",
          "height": 416
        },
        "id": "4YNp3Gdi55tF",
        "outputId": "0f14f1f7-ce6a-4cd4-c4c4-452dcc105b42"
      },
      "execution_count": 24,
      "outputs": [
        {
          "output_type": "display_data",
          "data": {
            "text/plain": [
              "<IPython.core.display.Markdown object>"
            ],
            "text/markdown": "> **user**: Fim"
          },
          "metadata": {}
        },
        {
          "output_type": "stream",
          "name": "stdout",
          "text": [
            "-------------------------------------------\n"
          ]
        },
        {
          "output_type": "display_data",
          "data": {
            "text/plain": [
              "<IPython.core.display.Markdown object>"
            ],
            "text/markdown": "> **model**: **Fim**\n> \n> O sol se pôs no horizonte, lançando um brilho dourado sobre a terra. O céu estava em chamas com tons de laranja, rosa e roxo. Era um belo fim para um dia perfeito.\n> \n> Eu sentei-me em uma pedra, observando o pôr do sol. Eu estava sozinho, mas não me sentia solitário. Eu estava em paz.\n> \n> Refleti sobre os acontecimentos do dia. Eu tinha passado o dia caminhando pela floresta, desfrutando da beleza da natureza. Eu tinha visto pássaros cantando nos galhos das árvores, esquilos correndo entre os troncos e veados pastando em um prado.\n> \n> Eu tinha encontrado um pequeno riacho e me sentado em sua margem, ouvindo o som da água corrente. Eu tinha fechado meus olhos e deixado a paz e a tranquilidade do momento me envolverem.\n> \n> Eu tinha caminhado até o topo de uma colina e olhado para a vista deslumbrante. Eu podia ver quilômetros de distância, sobre florestas, campos e montanhas.\n> \n> Eu tinha passado o dia em paz e harmonia com a natureza. Eu tinha me sentido conectado a algo maior do que eu mesmo.\n> \n> Agora, enquanto o sol se punha, eu sentia uma sensação de gratidão. Eu era grato pela beleza do mundo, pela paz que eu havia encontrado e pelo amor que sentia por todas as coisas vivas.\n> \n> Eu sabia que este era o fim de um dia perfeito. Mas também sabia que era apenas o começo de uma jornada ainda maior."
          },
          "metadata": {}
        },
        {
          "output_type": "stream",
          "name": "stdout",
          "text": [
            "-------------------------------------------\n"
          ]
        }
      ]
    }
  ]
}